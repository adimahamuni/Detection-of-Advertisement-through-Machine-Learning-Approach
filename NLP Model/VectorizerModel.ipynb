{
 "cells": [
  {
   "cell_type": "markdown",
   "metadata": {},
   "source": [
    "# Using Tokenization"
   ]
  },
  {
   "cell_type": "markdown",
   "metadata": {},
   "source": [
    "## 1. Importing the Libraries"
   ]
  },
  {
   "cell_type": "code",
   "execution_count": 1,
   "metadata": {},
   "outputs": [],
   "source": [
    "from sklearn.model_selection import train_test_split\n",
    "import pandas as pd\n",
    "import numpy as np\n",
    "import random\n",
    "from sklearn.feature_extraction.text import TfidfVectorizer\n",
    "from sklearn.metrics import classification_report\n",
    "from sklearn.linear_model import LogisticRegression\n",
    "import math\n",
    "\n",
    "from sklearn.tree import DecisionTreeClassifier\n",
    "from collections import Counter\n",
    "from sklearn.svm import SVC\n",
    "import seaborn as sns"
   ]
  },
  {
   "cell_type": "code",
   "execution_count": 2,
   "metadata": {},
   "outputs": [],
   "source": [
    "sns.set()"
   ]
  },
  {
   "cell_type": "markdown",
   "metadata": {},
   "source": [
    "## 2. Creating the Attributes"
   ]
  },
  {
   "cell_type": "code",
   "execution_count": 16,
   "metadata": {},
   "outputs": [],
   "source": [
    "#Crawler\n",
    "flog = open('FinalOp.txt', 'r')         #List containing the Ad URL\n",
    "fog = open('arg.txt', 'r')              #Easy list arguments\n",
    "\n",
    "string = []\n",
    "substr = []\n",
    "\n",
    "for line in flog.readlines():\n",
    "    string.append(line)\n",
    "for line in fog.readlines():\n",
    "    substr.append(line)\n",
    "\n",
    "ad = []\n",
    "\n",
    "#Classification into Ad/Non-Ad for attribute creation\n",
    "def search():\n",
    "    \n",
    "    res = False\n",
    "    for st in string:\n",
    "        st = st[:-2]\n",
    "        for sub in substr: \n",
    "            sub = sub[:-2]\n",
    "            if sub in st:\n",
    "                res = True\n",
    "                break\n",
    "            else:\n",
    "                res = False\n",
    "                \n",
    "        if res:\n",
    "            ad.append(\"ad\")\n",
    "        else:\n",
    "            ad.append(\"non-ad\")\n",
    "    \n",
    "    #return ad\n",
    "\n",
    "\n",
    "#Funtion\n",
    "search() "
   ]
  },
  {
   "cell_type": "markdown",
   "metadata": {},
   "source": [
    "## 3. Alphabet Entropy"
   ]
  },
  {
   "cell_type": "code",
   "execution_count": 5,
   "metadata": {},
   "outputs": [],
   "source": [
    "#Alphabet Entropy\n",
    "def entropy(s):\n",
    "\tp, lns = Counter(s), float(len(s))\n",
    "\treturn -sum( count/lns * math.log(count/lns, 2) for count in p.values())"
   ]
  },
  {
   "cell_type": "markdown",
   "metadata": {},
   "source": [
    "## 4. Tokenizer Function"
   ]
  },
  {
   "cell_type": "code",
   "execution_count": 6,
   "metadata": {},
   "outputs": [],
   "source": [
    "#Tokenization of URL, Getting the tokens\n",
    "def getTokens(input):\n",
    "\ttokensBySlash = str(input.encode('utf-8')).split('/')\t#get tokens after splitting by slash\n",
    "\tallTokens = []\n",
    "\tfor i in tokensBySlash:\n",
    "       \t#get tokens after splitting by dash\n",
    "\t\ttokens = str(i).split('-')\n",
    "\t\ttokensByDot = []\n",
    "\t\tfor j in range(0,len(tokens)):\n",
    "            #get tokens after splitting by dot\n",
    "\t\t\ttempTokens = str(tokens[j]).split('.')\t\n",
    "\t\t\ttokensByDot = tokensByDot + tempTokens\n",
    "\t\tallTokens = allTokens + tokens + tokensByDot\n",
    "    #remove redundant tokens\n",
    "\tallTokens = list(set(allTokens))\t\n",
    "\tif 'com' in allTokens:\n",
    "    #removing .com since it occurs a lot of times and it should not be included in our features\n",
    "\t\tallTokens.remove('com')\t\n",
    "\treturn allTokens"
   ]
  },
  {
   "cell_type": "markdown",
   "metadata": {},
   "source": [
    "## 5. Bag of Words Model"
   ]
  },
  {
   "cell_type": "markdown",
   "metadata": {},
   "source": [
    "### 1. Logistic Regression"
   ]
  },
  {
   "cell_type": "code",
   "execution_count": 7,
   "metadata": {},
   "outputs": [],
   "source": [
    "\n",
    "#Bag of Words Model\n",
    "def TL():\n",
    "    record = []\n",
    "    #path to our all urls file\n",
    "    allurl = open('FinalOp.txt','r')\t\n",
    "    \n",
    "    for line in allurl.readlines():\n",
    "        record.append(line)\n",
    "    \n",
    "    #converting to a dataframe    \n",
    "    allurlsdata = pd.DataFrame(record)\n",
    "    \n",
    "    \t#converting it into an array\n",
    "    allurlsdata = np.array(allurlsdata)\n",
    "    \n",
    "    labels = np.array(ad)\n",
    "    corpus = [d[0] for d in allurlsdata]\n",
    "    \t#all labels \n",
    "    y = [d[0] for d in labels]\n",
    "    \n",
    "    #shuffling\n",
    "    random.shuffle(allurlsdata)\t\n",
    "    #get a vector for each url but use our customized tokenizer\n",
    "    vectorizer = TfidfVectorizer(tokenizer=getTokens)\t\n",
    "    \n",
    "    #get the X vector\n",
    "    X = vectorizer.fit_transform(corpus)\t\n",
    "    \n",
    "    \t#split into training and testing set 80/20 ratio\n",
    "    X_train, X_test, y_train, y_test = train_test_split(X, y, test_size=0.25, random_state=42)\n",
    "    \n",
    "    \n",
    "    #Logistic Regression\n",
    "    \n",
    "    lgs = LogisticRegression()\t#using logistic regression\n",
    "    lgs.fit(X_train, y_train)\n",
    "    \n",
    "   \n",
    "    print(lgs.score(X_test, y_test))\t#pring the score\n",
    "    \n",
    "    # Predicting the Test set results\n",
    "    y_pred = lgs.predict(X_test)\n",
    "    \n",
    "    # Making the Confusion Matrix\n",
    "    from sklearn.metrics import confusion_matrix\n",
    "    cm = confusion_matrix(y_test, y_pred)\n",
    "    sns.heatmap(cm, annot = True)\n",
    "    print(classification_report(y_test, y_pred))\n",
    "\n",
    "    \n",
    "    return vectorizer, lgs, cm"
   ]
  },
  {
   "cell_type": "code",
   "execution_count": 15,
   "metadata": {},
   "outputs": [
    {
     "name": "stdout",
     "output_type": "stream",
     "text": [
      "0.996309963099631\n",
      "             precision    recall  f1-score   support\n",
      "\n",
      "          a       1.00      0.83      0.91         6\n",
      "          n       1.00      1.00      1.00       265\n",
      "\n",
      "avg / total       1.00      1.00      1.00       271\n",
      "\n"
     ]
    },
    {
     "data": {
      "text/plain": [
       "(TfidfVectorizer(analyzer='word', binary=False, decode_error='strict',\n",
       "         dtype=<class 'numpy.int64'>, encoding='utf-8', input='content',\n",
       "         lowercase=True, max_df=1.0, max_features=None, min_df=1,\n",
       "         ngram_range=(1, 1), norm='l2', preprocessor=None, smooth_idf=True,\n",
       "         stop_words=None, strip_accents=None, sublinear_tf=False,\n",
       "         token_pattern='(?u)\\\\b\\\\w\\\\w+\\\\b',\n",
       "         tokenizer=<function getTokens at 0x0000017E7203D840>, use_idf=True,\n",
       "         vocabulary=None),\n",
       " DecisionTreeClassifier(class_weight=None, criterion='entropy', max_depth=None,\n",
       "             max_features=None, max_leaf_nodes=None,\n",
       "             min_impurity_decrease=0.0, min_impurity_split=None,\n",
       "             min_samples_leaf=1, min_samples_split=2,\n",
       "             min_weight_fraction_leaf=0.0, presort=False, random_state=0,\n",
       "             splitter='best'),\n",
       " array([[  5,   1],\n",
       "        [  0, 265]], dtype=int64))"
      ]
     },
     "execution_count": 15,
     "metadata": {},
     "output_type": "execute_result"
    },
    {
     "data": {
      "image/png": "[encoded data removed]",
      "text/plain": [
       "<Figure size 432x288 with 2 Axes>"
      ]
     },
     "metadata": {},
     "output_type": "display_data"
    }
   ],
   "source": [
    "#calling the Function\n",
    "TL()"
   ]
  },
  {
   "cell_type": "markdown",
   "metadata": {},
   "source": [
    "### 2. SVM"
   ]
  },
  {
   "cell_type": "code",
   "execution_count": 11,
   "metadata": {},
   "outputs": [],
   "source": [
    "\n",
    "#Bag of Words Model\n",
    "def TL():\n",
    "    record = []\n",
    "    #path to our all urls file\n",
    "    allurl = open('FinalOp.txt','r')\t\n",
    "    \n",
    "    for line in allurl.readlines():\n",
    "        record.append(line)\n",
    "    \n",
    "    #converting to a dataframe    \n",
    "    allurlsdata = pd.DataFrame(record)\n",
    "    \n",
    "    \t#converting it into an array\n",
    "    allurlsdata = np.array(allurlsdata)\n",
    "    \n",
    "    labels = np.array(ad)\n",
    "    corpus = [d[0] for d in allurlsdata]\n",
    "    \t#all labels \n",
    "    y = [d[0] for d in labels]\n",
    "    \n",
    "    #shuffling\n",
    "    random.shuffle(allurlsdata)\t\n",
    "    #get a vector for each url but use our customized tokenizer\n",
    "    vectorizer = TfidfVectorizer(tokenizer=getTokens)\t\n",
    "    \n",
    "    #get the X vector\n",
    "    X = vectorizer.fit_transform(corpus)\t\n",
    "    \n",
    "    \t#split into training and testing set 80/20 ratio\n",
    "    X_train, X_test, y_train, y_test = train_test_split(X, y, test_size=0.25, random_state=42)\n",
    "    \n",
    "    \n",
    "    #Support Vector Machines\n",
    "    \n",
    "    classifier = SVC(kernel='linear',random_state=0)\n",
    "    classifier.fit(X_train, y_train)\n",
    "    \n",
    "   \n",
    "    print(classifier.score(X_test, y_test))\t#pring the score\n",
    "    \n",
    "    # Predicting the Test set results\n",
    "    y_pred = classifier.predict(X_test)\n",
    "    \n",
    "    # Making the Confusion Matrix\n",
    "    from sklearn.metrics import confusion_matrix\n",
    "    cm = confusion_matrix(y_test, y_pred)\n",
    "    sns.heatmap(cm, annot = True)\n",
    "    print(classification_report(y_test, y_pred))\n",
    "\n",
    "    \n",
    "    return vectorizer, classifier, cm"
   ]
  },
  {
   "cell_type": "code",
   "execution_count": 12,
   "metadata": {},
   "outputs": [
    {
     "name": "stdout",
     "output_type": "stream",
     "text": [
      "0.988929889298893\n",
      "             precision    recall  f1-score   support\n",
      "\n",
      "          a       1.00      0.50      0.67         6\n",
      "          n       0.99      1.00      0.99       265\n",
      "\n",
      "avg / total       0.99      0.99      0.99       271\n",
      "\n"
     ]
    },
    {
     "data": {
      "text/plain": [
       "(TfidfVectorizer(analyzer='word', binary=False, decode_error='strict',\n",
       "         dtype=<class 'numpy.int64'>, encoding='utf-8', input='content',\n",
       "         lowercase=True, max_df=1.0, max_features=None, min_df=1,\n",
       "         ngram_range=(1, 1), norm='l2', preprocessor=None, smooth_idf=True,\n",
       "         stop_words=None, strip_accents=None, sublinear_tf=False,\n",
       "         token_pattern='(?u)\\\\b\\\\w\\\\w+\\\\b',\n",
       "         tokenizer=<function getTokens at 0x0000017E7203D840>, use_idf=True,\n",
       "         vocabulary=None),\n",
       " SVC(C=1.0, cache_size=200, class_weight=None, coef0=0.0,\n",
       "   decision_function_shape='ovr', degree=3, gamma='auto', kernel='linear',\n",
       "   max_iter=-1, probability=False, random_state=0, shrinking=True,\n",
       "   tol=0.001, verbose=False),\n",
       " array([[  3,   3],\n",
       "        [  0, 265]], dtype=int64))"
      ]
     },
     "execution_count": 12,
     "metadata": {},
     "output_type": "execute_result"
    },
    {
     "data": {
      "image/png": "[encoded data removed]",
      "text/plain": [
       "<Figure size 432x288 with 2 Axes>"
      ]
     },
     "metadata": {},
     "output_type": "display_data"
    }
   ],
   "source": [
    "#calling the Function\n",
    "TL()"
   ]
  },
  {
   "cell_type": "markdown",
   "metadata": {},
   "source": [
    "### 3. Decision Tree"
   ]
  },
  {
   "cell_type": "code",
   "execution_count": 13,
   "metadata": {},
   "outputs": [],
   "source": [
    "\n",
    "#Bag of Words Model\n",
    "def TL():\n",
    "    record = []\n",
    "    #path to our all urls file\n",
    "    allurl = open('FinalOp.txt','r')\t\n",
    "    \n",
    "    for line in allurl.readlines():\n",
    "        record.append(line)\n",
    "    \n",
    "    #converting to a dataframe    \n",
    "    allurlsdata = pd.DataFrame(record)\n",
    "    \n",
    "    \t#converting it into an array\n",
    "    allurlsdata = np.array(allurlsdata)\n",
    "    \n",
    "    labels = np.array(ad)\n",
    "    corpus = [d[0] for d in allurlsdata]\n",
    "    \t#all labels \n",
    "    y = [d[0] for d in labels]\n",
    "    \n",
    "    #shuffling\n",
    "    random.shuffle(allurlsdata)\t\n",
    "    #get a vector for each url but use our customized tokenizer\n",
    "    vectorizer = TfidfVectorizer(tokenizer=getTokens)\t\n",
    "    \n",
    "    #get the X vector\n",
    "    X = vectorizer.fit_transform(corpus)\t\n",
    "    \n",
    "    \t#split into training and testing set 80/20 ratio\n",
    "    X_train, X_test, y_train, y_test = train_test_split(X, y, test_size=0.25, random_state=42)\n",
    "    \n",
    "    \n",
    "    #Decision Trees\n",
    "    \n",
    "    classifier = DecisionTreeClassifier(criterion='entropy',random_state=0)\n",
    "    classifier.fit(X_train, y_train)\n",
    "    \n",
    "   \n",
    "    print(classifier.score(X_test, y_test))\t#pring the score\n",
    "    \n",
    "    # Predicting the Test set results\n",
    "    y_pred = classifier.predict(X_test)\n",
    "    \n",
    "    # Making the Confusion Matrix\n",
    "    from sklearn.metrics import confusion_matrix\n",
    "    cm = confusion_matrix(y_test, y_pred)\n",
    "    sns.heatmap(cm, annot = True)\n",
    "    print(classification_report(y_test, y_pred))\n",
    "\n",
    "    \n",
    "    return vectorizer, classifier, cm"
   ]
  },
  {
   "cell_type": "code",
   "execution_count": 14,
   "metadata": {},
   "outputs": [
    {
     "name": "stdout",
     "output_type": "stream",
     "text": [
      "0.996309963099631\n",
      "             precision    recall  f1-score   support\n",
      "\n",
      "          a       1.00      0.83      0.91         6\n",
      "          n       1.00      1.00      1.00       265\n",
      "\n",
      "avg / total       1.00      1.00      1.00       271\n",
      "\n"
     ]
    },
    {
     "data": {
      "text/plain": [
       "(TfidfVectorizer(analyzer='word', binary=False, decode_error='strict',\n",
       "         dtype=<class 'numpy.int64'>, encoding='utf-8', input='content',\n",
       "         lowercase=True, max_df=1.0, max_features=None, min_df=1,\n",
       "         ngram_range=(1, 1), norm='l2', preprocessor=None, smooth_idf=True,\n",
       "         stop_words=None, strip_accents=None, sublinear_tf=False,\n",
       "         token_pattern='(?u)\\\\b\\\\w\\\\w+\\\\b',\n",
       "         tokenizer=<function getTokens at 0x0000017E7203D840>, use_idf=True,\n",
       "         vocabulary=None),\n",
       " DecisionTreeClassifier(class_weight=None, criterion='entropy', max_depth=None,\n",
       "             max_features=None, max_leaf_nodes=None,\n",
       "             min_impurity_decrease=0.0, min_impurity_split=None,\n",
       "             min_samples_leaf=1, min_samples_split=2,\n",
       "             min_weight_fraction_leaf=0.0, presort=False, random_state=0,\n",
       "             splitter='best'),\n",
       " array([[  5,   1],\n",
       "        [  0, 265]], dtype=int64))"
      ]
     },
     "execution_count": 14,
     "metadata": {},
     "output_type": "execute_result"
    },
    {
     "data": {
      "image/png": "[encoded data removed]",
      "text/plain": [
       "<Figure size 432x288 with 2 Axes>"
      ]
     },
     "metadata": {},
     "output_type": "display_data"
    }
   ],
   "source": [
    "#calling the Function\n",
    "TL()"
   ]
  },
  {
   "cell_type": "code",
   "execution_count": null,
   "metadata": {},
   "outputs": [],
   "source": []
  }
 ],
 "metadata": {
  "kernelspec": {
   "display_name": "Python 3",
   "language": "python",
   "name": "python3"
  },
  "language_info": {
   "codemirror_mode": {
    "name": "ipython",
    "version": 3
   },
   "file_extension": ".py",
   "mimetype": "text/x-python",
   "name": "python",
   "nbconvert_exporter": "python",
   "pygments_lexer": "ipython3",
   "version": "3.6.5"
  }
 },
 "nbformat": 4,
 "nbformat_minor": 2
}
