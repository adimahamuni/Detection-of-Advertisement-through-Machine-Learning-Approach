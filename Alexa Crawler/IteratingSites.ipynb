{
 "cells": [
  {
   "cell_type": "markdown",
   "metadata": {},
   "source": [
    "# Iterating List of Sites"
   ]
  },
  {
   "cell_type": "code",
   "execution_count": null,
   "metadata": {},
   "outputs": [],
   "source": [
    "#Importing the libraries\n",
    "import requests\n",
    "from bs4 import BeautifulSoup as bs\n",
    "\n",
    "#Recursively Crawling the list  \n",
    "class crawl:\n",
    "    def iterate(self):\n",
    "        fr = open('alexaSitesFinal.txt','r')\n",
    "        fw = open('FinalOutput.txt','w')\n",
    "        for line in fr.readlines():\n",
    "            line = line.strip()\n",
    "            url = \"http://www.\" + line\n",
    "            try:\n",
    "                source = requests.get(url, timeout=1000)\n",
    "                plaintext = source.text\n",
    "                soup = bs(plaintext)\n",
    "                for link in soup.findAll('script'):\n",
    "                    href = link.get('src')\n",
    "                    if href != None:\n",
    "                       fw.write(href)\n",
    "                       fw.write('\\n')\n",
    "            except requests.exceptions.ConnectionError:\n",
    "                continue\n",
    "                        \n",
    "        fw.close()\n",
    "        fr.close()\n",
    "       \n",
    "    def main(self):\n",
    "        self.iterate()\n",
    "      \n",
    "#Creating the object       \n",
    "c = crawl()   \n",
    "\n",
    "#Function\n",
    "c.main()"
   ]
  }
 ],
 "metadata": {
  "kernelspec": {
   "display_name": "Python 3",
   "language": "python",
   "name": "python3"
  },
  "language_info": {
   "codemirror_mode": {
    "name": "ipython",
    "version": 3
   },
   "file_extension": ".py",
   "mimetype": "text/x-python",
   "name": "python",
   "nbconvert_exporter": "python",
   "pygments_lexer": "ipython3",
   "version": "3.6.5"
  }
 },
 "nbformat": 4,
 "nbformat_minor": 2
}
