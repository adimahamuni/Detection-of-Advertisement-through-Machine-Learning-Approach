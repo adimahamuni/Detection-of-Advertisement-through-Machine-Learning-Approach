{
 "cells": [
  {
   "cell_type": "markdown",
   "metadata": {},
   "source": [
    "# Alexa Crawler"
   ]
  },
  {
   "cell_type": "code",
   "execution_count": null,
   "metadata": {},
   "outputs": [],
   "source": [
    "#Importing the libraries\n",
    "import requests\n",
    "from bs4 import BeautifulSoup as bs\n",
    "import time\n",
    "\n",
    "#Crawling Alexa top 500 sites \n",
    "class crawl:   \n",
    "    \n",
    "    #Initialization\n",
    "    def init(self, url):\n",
    "        global soup\n",
    "        url = \"https://\" + url\n",
    "        source = requests.get(url)\n",
    "        plaintext = source.text\n",
    "        soup = bs(plaintext)            #Object of BeautifulSoup\n",
    "   \n",
    "    #Crawling Alexa List\n",
    "    def find_main(self):\n",
    "        fw = open('sites.txt','w')      \n",
    "        links = soup.findAll('div', {'class':'DescriptionCell'})\n",
    "        for link in links:    \n",
    "            if link != None:\n",
    "                fw.write(link.a.text)\n",
    "                fw.write('\\n')\n",
    "        fw.close()\n",
    "    \n",
    "    #Recursively Crawling the list\n",
    "    def iterate(self):\n",
    "        fr = open('sites.txt','r')\n",
    "        fw = open('output.txt','a')\n",
    "        for line in fr.readlines():\n",
    "            self.init(line)\n",
    "            \n",
    "            for link in soup.findAll('script'):\n",
    "                href = link.get('src')\n",
    "                if href != None:\n",
    "                    fw.write(href)\n",
    "                    fw.write('\\n')\n",
    "                time.sleep(2)\n",
    "        fr.close()\n",
    "        fw.close()\n",
    "       \n",
    "    def main(self):    \n",
    "        self.init('www.alexa.com/topsites')\n",
    "        self.find_main()\n",
    "        self.iterate()\n",
    "      \n",
    "\n",
    "#Creating the object        \n",
    "c = crawl()   \n",
    "\n",
    "#Function\n",
    "c.main()"
   ]
  }
 ],
 "metadata": {
  "kernelspec": {
   "display_name": "Python 3",
   "language": "python",
   "name": "python3"
  },
  "language_info": {
   "codemirror_mode": {
    "name": "ipython",
    "version": 3
   },
   "file_extension": ".py",
   "mimetype": "text/x-python",
   "name": "python",
   "nbconvert_exporter": "python",
   "pygments_lexer": "ipython3",
   "version": "3.6.5"
  }
 },
 "nbformat": 4,
 "nbformat_minor": 2
}
